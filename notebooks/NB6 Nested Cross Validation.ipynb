{
 "cells": [
  {
   "cell_type": "markdown",
   "metadata": {},
   "source": [
    "# 6. Nested Cross-Validation\n",
    "\n",
    "**Instructions:**\n",
    "* go through the notebook and complete the **tasks** .  \n",
    "* Make sure you understand the examples given!\n",
    "* When a question allows a free-form answer (e.g., ``what do you observe?``) create a new markdown cell below and answer the question in the notebook.\n",
    "* ** Save your notebooks when you are done! **\n",
    "\n",
    "In the previous lab, we looked at cross-validation when the parameters of our classifier (e.g., k-NN) where known.\n",
    "In this lab, you will be extending the code for cross-validation in order to find the best parameters to use for each fold, by using a validation set.  Please have a look at the relevant lecture slides that demo how to apply nested cross-validation in order to remember the procedure.\n",
    "\n",
    "**Note** You can always copy the code in a separate notebook (or, a plain text file .py that you can run with python from the command line) if you want.  After you are done, you can copy the code back in this notepad."
   ]
  },
  {
   "cell_type": "markdown",
   "metadata": {},
   "source": [
    "<hr>\n",
    "<span style=\"color:rgb(170,0,0)\">**Task:**</span> Run the cell below to load our data. Note that besides adding noise, we also initialize the numpy random seed - this is in order to always get the same results regardless of how many times we run the code. Otherwise, this piece of code is the same as the previous lab."
   ]
  },
  {
   "cell_type": "code",
   "execution_count": 192,
   "metadata": {},
   "outputs": [],
   "source": [
    "%matplotlib inline\n",
    "\n",
    "from sklearn import datasets\n",
    "import numpy as np\n",
    "import matplotlib.pyplot as plt\n",
    "\n",
    "#import k-nn classifier\n",
    "from sklearn.model_selection import train_test_split\n",
    "from sklearn.neighbors import KNeighborsClassifier\n",
    "\n",
    "from sklearn.metrics import confusion_matrix\n",
    "from sklearn.metrics import classification_report\n",
    "from sklearn.metrics import accuracy_score\n",
    "\n",
    "iris = datasets.load_iris()\n",
    "\n",
    "#view a description of the dataset (uncomment next line to do so)\n",
    "#print(iris.DESCR)\n",
    "\n",
    "#Set X equal to features, Y equal to the targets\n",
    "\n",
    "X=iris.data \n",
    "y=iris.target \n",
    "\n",
    "\n",
    "mySeed=1234567\n",
    "#initialize random seed generator \n",
    "np.random.seed(mySeed)\n",
    "\n",
    "#we add some random noise to our data to make the task more challenging\n",
    "X=X+np.random.normal(0,0.5,X.shape)"
   ]
  },
  {
   "cell_type": "markdown",
   "metadata": {},
   "source": [
    "<hr>\n",
    "<span style=\"color:rgb(170,0,0)\">**Task:**</span> Your task is now to write your own nested cross-validation function.\n",
    "\n",
    "You can assume that we want to run 5-fold cross-validation, and evaluate the number of neighbours (from 1 to 10 inclusive), along with the 'euclidean' and 'manhattan' distances.\n",
    "\n",
    "Your function should split the data (using indexes) into appropriate bins, similarly to how this was done in the previous lab. \n",
    "\n",
    "For each fold, the testing set should consist of indices in one bin, the validation set should consist of indices in another bin, and the rest of the bins can be assigned to your training set.\n",
    "\n",
    "Subsequently, we loop through all different parameters (one for loop for neighbours, one for loop for distances), train on the training set and test on the validation set.\n",
    "\n",
    "Once we are done, we have the best performing set of parameters on our validation set.  We subsequently merge the training set with the validation set, and train on that set using best parameters.\n",
    "\n",
    "Finally, we evaluate on our test set, and proceed to the next fold.\n",
    "\n",
    "Your function should return the accuracies on the test set (with best parameters) over all five folds, e.g. ``[0.80000000000000004, 0.8666666666666667, 0.80000000000000004, 0.96666666666666667, 0.73333333333333328]``\n",
    "\n",
    "The code below is commented so that you can work through developing the function - if you feel more comfortable, you can start working on this code in a different cell/ide and then copy the code here."
   ]
  },
  {
   "cell_type": "code",
   "execution_count": 198,
   "metadata": {
    "scrolled": false
   },
   "outputs": [
    {
     "name": "stdout",
     "output_type": "stream",
     "text": [
      "==== Final Cross-val on test on this fold with NN 1 dist euclidean  accuracy  0.8666666666666667\n",
      "==== Final Cross-val on test on this fold with NN 9 dist euclidean  accuracy  0.8333333333333334\n",
      "==== Final Cross-val on test on this fold with NN 2 dist euclidean  accuracy  0.8666666666666667\n",
      "==== Final Cross-val on test on this fold with NN 5 dist euclidean  accuracy  0.9333333333333333\n",
      "==== Final Cross-val on test on this fold with NN 8 dist euclidean  accuracy  0.8666666666666667\n",
      "[0.8333333333333334, 0.8666666666666667, 0.9666666666666667, 0.8333333333333334, 0.8666666666666667]\n"
     ]
    },
    {
     "name": "stderr",
     "output_type": "stream",
     "text": [
      "/home/locua/.virtualenvs/ml1/lib/python3.6/site-packages/ipykernel_launcher.py:45: DeprecationWarning: The truth value of an empty array is ambiguous. Returning False, but in future this will result in an error. Use `array.size > 0` to check that an array is not empty.\n",
      "/home/locua/.virtualenvs/ml1/lib/python3.6/site-packages/ipykernel_launcher.py:46: DeprecationWarning: The truth value of an empty array is ambiguous. Returning False, but in future this will result in an error. Use `array.size > 0` to check that an array is not empty.\n",
      "/home/locua/.virtualenvs/ml1/lib/python3.6/site-packages/ipykernel_launcher.py:47: DeprecationWarning: The truth value of an empty array is ambiguous. Returning False, but in future this will result in an error. Use `array.size > 0` to check that an array is not empty.\n",
      "/home/locua/.virtualenvs/ml1/lib/python3.6/site-packages/ipykernel_launcher.py:45: DeprecationWarning: The truth value of an empty array is ambiguous. Returning False, but in future this will result in an error. Use `array.size > 0` to check that an array is not empty.\n",
      "/home/locua/.virtualenvs/ml1/lib/python3.6/site-packages/ipykernel_launcher.py:46: DeprecationWarning: The truth value of an empty array is ambiguous. Returning False, but in future this will result in an error. Use `array.size > 0` to check that an array is not empty.\n",
      "/home/locua/.virtualenvs/ml1/lib/python3.6/site-packages/ipykernel_launcher.py:47: DeprecationWarning: The truth value of an empty array is ambiguous. Returning False, but in future this will result in an error. Use `array.size > 0` to check that an array is not empty.\n",
      "/home/locua/.virtualenvs/ml1/lib/python3.6/site-packages/ipykernel_launcher.py:45: DeprecationWarning: The truth value of an empty array is ambiguous. Returning False, but in future this will result in an error. Use `array.size > 0` to check that an array is not empty.\n",
      "/home/locua/.virtualenvs/ml1/lib/python3.6/site-packages/ipykernel_launcher.py:46: DeprecationWarning: The truth value of an empty array is ambiguous. Returning False, but in future this will result in an error. Use `array.size > 0` to check that an array is not empty.\n",
      "/home/locua/.virtualenvs/ml1/lib/python3.6/site-packages/ipykernel_launcher.py:47: DeprecationWarning: The truth value of an empty array is ambiguous. Returning False, but in future this will result in an error. Use `array.size > 0` to check that an array is not empty.\n",
      "/home/locua/.virtualenvs/ml1/lib/python3.6/site-packages/ipykernel_launcher.py:45: DeprecationWarning: The truth value of an empty array is ambiguous. Returning False, but in future this will result in an error. Use `array.size > 0` to check that an array is not empty.\n",
      "/home/locua/.virtualenvs/ml1/lib/python3.6/site-packages/ipykernel_launcher.py:46: DeprecationWarning: The truth value of an empty array is ambiguous. Returning False, but in future this will result in an error. Use `array.size > 0` to check that an array is not empty.\n",
      "/home/locua/.virtualenvs/ml1/lib/python3.6/site-packages/ipykernel_launcher.py:47: DeprecationWarning: The truth value of an empty array is ambiguous. Returning False, but in future this will result in an error. Use `array.size > 0` to check that an array is not empty.\n",
      "/home/locua/.virtualenvs/ml1/lib/python3.6/site-packages/ipykernel_launcher.py:45: DeprecationWarning: The truth value of an empty array is ambiguous. Returning False, but in future this will result in an error. Use `array.size > 0` to check that an array is not empty.\n",
      "/home/locua/.virtualenvs/ml1/lib/python3.6/site-packages/ipykernel_launcher.py:46: DeprecationWarning: The truth value of an empty array is ambiguous. Returning False, but in future this will result in an error. Use `array.size > 0` to check that an array is not empty.\n",
      "/home/locua/.virtualenvs/ml1/lib/python3.6/site-packages/ipykernel_launcher.py:47: DeprecationWarning: The truth value of an empty array is ambiguous. Returning False, but in future this will result in an error. Use `array.size > 0` to check that an array is not empty.\n"
     ]
    }
   ],
   "source": [
    "# nested cross validation\n",
    "# X - data / features\n",
    "# y - outputs\n",
    "# foldK - number of folds\n",
    "# nns - list of number of neighbours parameter for validation\n",
    "# dists - list of distances for validation\n",
    "dists=[\"euclidian\", \"manhattan\"]\n",
    "# mySeed - random seed\n",
    "# returns: accuracy over 5 folds (list)\n",
    "\n",
    "\n",
    "def myNestedCrossVal(X,y,foldK,nns,dists,mySeed):\n",
    "    np.random.seed(mySeed)\n",
    "    accuracy_fold=[]\n",
    "\n",
    "    #TASK: use the function np.random.permutation to generate a list of shuffled indices from in the range (0,number of data)\n",
    "    #(you did this already in a task above)\n",
    "    L=list(range(X.shape[0]))\n",
    "    indices = np.random.permutation(L)\n",
    "    #TASK: use the function array_split to split the indices to foldK different bins (here, 5)\n",
    "    #uncomment line below\n",
    "    bins=np.array_split(indices, foldK)\n",
    "    #print(bins)\n",
    "    #no need to worry about this, just checking that everything is OK\n",
    "    assert(foldK==len(bins))\n",
    "    #loop through folds\n",
    "    for i in range(0,foldK):\n",
    "        foldTrain=[] # list to save current indices for training\n",
    "        foldTest=[]  # list to save current indices for testing\n",
    "        foldVal=[]    # list to save current indices for validation\n",
    "        #loop through all bins, take bin i for testing, the next bin for validation, and the rest for training\n",
    "        valBin = (i+1)%foldK\n",
    "        for j in range(0,len(bins)):\n",
    "            if (i == j):\n",
    "                foldTest = bins[i]\n",
    "            elif (j == valBin):\n",
    "                foldVal = bins[valBin]\n",
    "            else:\n",
    "                foldTrain.extend(bins[j])\n",
    "\n",
    "        #print('** Train', len(foldTrain), foldTrain)\n",
    "        #print('** Val', len(foldVal), foldVal)\n",
    "        #print('** Test', len(foldTest), foldTest)\n",
    "        #no need to worry about this, just checking that everything is OK\n",
    "        assert not np.intersect1d(foldTest,foldVal)\n",
    "        assert not np.intersect1d(foldTrain,foldTest)\n",
    "        assert not np.intersect1d(foldTrain,foldVal)\n",
    "        bestDistance='' #save the best distance metric here\n",
    "        bestNN=-1 #save the best number of neighbours here\n",
    "        bestAccuracy=-10 #save the best attained accuracy here (in terms of validation)\n",
    "        # loop through all parameters (one for loop for distances, one for loop for nn)\n",
    "        # train the classifier on current number of neighbours/distance\n",
    "        # obtain results on validation set\n",
    "        # save parameters if results are the best we had\n",
    "        for d in dists:\n",
    "            for nn in nns:\n",
    "                #split to train and test\n",
    "                #define knn classifier, with 5 neighbors and use the euclidian distance\n",
    "                knn=KNeighborsClassifier(n_neighbors=nn, metric=d)\n",
    "                knn.fit(X[foldTrain],y[foldTrain])\n",
    "                y_pred=knn.predict(X[foldVal])\n",
    "                accuracy = accuracy_score(y[foldVal], y_pred)\n",
    "                if accuracy > bestAccuracy:\n",
    "                    bestDistance = d\n",
    "                    bestNN = nn\n",
    "                    bestAccuracy = accuracy\n",
    "\n",
    "        #print('** End of val for this fold, best NN: ', bestNN, 'best Dist: ', bestDistance, '. Accuracy: ', bestAccuracy)\n",
    "        #evaluate on test data:\n",
    "        #extend your training set by including the validation set\n",
    "        #train k-NN classifier on new training set and test on test set\n",
    "        #get performance on fold, save result in accuracy_fold\n",
    "        foldTrain.extend(foldVal)\n",
    "        knn.fit(X[foldTrain],y[foldTrain])\n",
    "        y_=knn.predict(X[foldTest])\n",
    "        accuracy_=accuracy_score(y[foldTest],y_)\n",
    "        accuracy_fold.append(accuracy)\n",
    "        print('==== Final Cross-val on test on this fold with NN', bestNN, 'dist', bestDistance, ' accuracy ',accuracy_score(y[foldTest],y_))\n",
    "\n",
    "    return accuracy_fold;\n",
    "\n",
    "#call your nested crossvalidation function:\n",
    "accuracy_fold=myNestedCrossVal(X,y,5,list(range(1,11)),['euclidean','manhattan'],mySeed)\n",
    "print(accuracy_fold)"
   ]
  },
  {
   "cell_type": "code",
   "execution_count": 197,
   "metadata": {},
   "outputs": [
    {
     "name": "stdout",
     "output_type": "stream",
     "text": [
      "[ 0  1  2  3  4  5  6  7  8  9 10 11 12 13 14 15 16 17 18 19 20 21 22 23\n",
      " 24]\n",
      "\n",
      "\n",
      "25\n",
      "[0 1 2 3 4] [5 6 7 8 9] [10 11 12 13 14 15 16 17 18 19 20 21 22 23 24]\n",
      "20\n",
      "[5 6 7 8 9] [10 11 12 13 14] [15 16 17 18 19 20 21 22 23 24]\n",
      "15\n",
      "[10 11 12 13 14] [15 16 17 18 19] [20 21 22 23 24]\n",
      "35\n",
      "[15 16 17 18 19] [20 21 22 23 24] [ 0  1  2  3  4  5  6  7  8  9 10 11 12 13 14 15 16 17 18 19 20 21 22 23\n",
      " 24]\n",
      "30\n",
      "[20 21 22 23 24] [0 1 2 3 4] [ 5  6  7  8  9 10 11 12 13 14 15 16 17 18 19 20 21 22 23 24]\n"
     ]
    }
   ],
   "source": [
    "import numpy as np\n",
    "foldK = 5\n",
    "x = np.arange(25)\n",
    "print(x)\n",
    "print(\"\\n\")\n",
    "#print(x_split)\n",
    "for i in range(0,5):\n",
    "    foldTest = x_split[i]\n",
    "    foldVal = x_split[(i+1)%k]\n",
    "    others = x_split[(i+2)%k:]\n",
    "    foldTrain = np.concatenate(others)\n",
    "    print(len(foldTest) + len(foldTrain) + len(foldVal))\n",
    "    print(foldTest, foldVal, foldTrain)"
   ]
  },
  {
   "cell_type": "code",
   "execution_count": null,
   "metadata": {},
   "outputs": [],
   "source": []
  }
 ],
 "metadata": {
  "kernelspec": {
   "display_name": "Python 3",
   "language": "python",
   "name": "python3"
  },
  "language_info": {
   "codemirror_mode": {
    "name": "ipython",
    "version": 3
   },
   "file_extension": ".py",
   "mimetype": "text/x-python",
   "name": "python",
   "nbconvert_exporter": "python",
   "pygments_lexer": "ipython3",
   "version": "3.6.9"
  },
  "widgets": {
   "state": {},
   "version": "1.1.2"
  }
 },
 "nbformat": 4,
 "nbformat_minor": 2
}
