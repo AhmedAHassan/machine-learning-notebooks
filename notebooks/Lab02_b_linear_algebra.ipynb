{
 "cells": [
  {
   "cell_type": "markdown",
   "metadata": {
    "collapsed": true
   },
   "source": [
    "# More on Linear Algebra\n",
    "\n",
    "**Instructions:**\n",
    "* go through the notebook and complete the **tasks** .  \n",
    "* Make sure you understand the examples given!\n",
    "* When a question allows a free-form answer (e.g., ``what do you observe?``) create a new markdown cell below and answer the question in the notebook.\n",
    "* ** Save your notebooks when you are done! **\n"
   ]
  },
  {
   "cell_type": "markdown",
   "metadata": {},
   "source": [
    "<hr>\n",
    "<span style=\"color:rgb(170,0,0)\">**Task 1:**</span> Go through the tutorial on Linear Algebra in python here: <a href=\"http://ml-cheatsheet.readthedocs.io/en/latest/linear_algebra.html\">http://ml-cheatsheet.readthedocs.io/en/latest/linear_algebra.html</a>\n",
    "\n",
    "Paste and run the code from the tutorial in the empty cell below (or create new empty cells below) to get more familiar with the material."
   ]
  },
  {
   "cell_type": "code",
   "execution_count": 3,
   "metadata": {},
   "outputs": [
    {
     "name": "stdout",
     "output_type": "stream",
     "text": [
      "[3 5 7]\n",
      "[-1 -1 -1]\n",
      "[0.5        0.66666667 0.75      ]\n"
     ]
    }
   ],
   "source": [
    "import numpy as np\n",
    "#Code here - use code samples from link above\n",
    "y = np.array([1,2,3])\n",
    "x = np.array([2,3,4])\n",
    "# y + x = [3, 5, 7]\n",
    "# y - x = [-1, -1, -1]\n",
    "# y / x = [.5, .67, .75]\n",
    "print(y+x)\n",
    "print(y-x)\n",
    "print(y/x)"
   ]
  },
  {
   "attachments": {
    "image.png": {
     "image/png": "[encoded data removed]"
    }
   },
   "cell_type": "markdown",
   "metadata": {},
   "source": [
    "![image.png](attachment:image.png)"
   ]
  },
  {
   "cell_type": "code",
   "execution_count": 4,
   "metadata": {},
   "outputs": [
    {
     "name": "stdout",
     "output_type": "stream",
     "text": [
      "20\n"
     ]
    }
   ],
   "source": [
    "# Dot product\n",
    "y = np.array([1,2,3])\n",
    "x = np.array([2,3,4])\n",
    "yxdot = np.dot(y,x)\n",
    "print(yxdot)"
   ]
  },
  {
   "cell_type": "markdown",
   "metadata": {},
   "source": []
  },
  {
   "cell_type": "code",
   "execution_count": 19,
   "metadata": {
    "scrolled": true
   },
   "outputs": [
    {
     "name": "stdout",
     "output_type": "stream",
     "text": [
      "(2, 3)\n",
      "(3, 2)\n"
     ]
    },
    {
     "data": {
      "text/plain": [
       "(2, 2)"
      ]
     },
     "execution_count": 19,
     "metadata": {},
     "output_type": "execute_result"
    }
   ],
   "source": [
    "a = np.array([\n",
    " [1,2,3],\n",
    " [4,5,6]\n",
    "])\n",
    "\n",
    "print(a.shape)\n",
    "\n",
    "b = np.array([\n",
    " [1,2],\n",
    " [3,4],\n",
    " [1, 2]\n",
    "])\n",
    "\n",
    "print(b.shape)\n",
    "\n",
    "np.dot(a, b).shape"
   ]
  },
  {
   "cell_type": "markdown",
   "metadata": {},
   "source": [
    "<span style=\"color:rgb(170,0,0)\">**Task 2:**</span> Create the following matrices:\n",
    "* $X=\\begin{bmatrix} 2 & 3 & 4 \\\\ 1 & 2 &3 \\end{bmatrix},Y=\\begin{bmatrix} 0 & 1 & 0 \\\\ 1 & 0 &0\\\\ 0 & 0 & 1 \\end{bmatrix}$\n",
    "* Multiply X with Y (Z1=X*Y=XY) and print the result.  What do you observe?\n",
    "* Multiply X with Y transpose (Z2=X*Y.T) and print the result.  What do you observe?\n",
    "* What can you tell about matrix Y, given Z1 and Z2?"
   ]
  },
  {
   "cell_type": "code",
   "execution_count": 14,
   "metadata": {},
   "outputs": [
    {
     "name": "stdout",
     "output_type": "stream",
     "text": [
      "[[2 3 4]\n",
      " [1 2 3]]\n",
      "[[2 1]\n",
      " [3 2]\n",
      " [4 3]]\n"
     ]
    },
    {
     "data": {
      "text/plain": [
       "array([[3, 2, 4],\n",
       "       [2, 1, 3]])"
      ]
     },
     "execution_count": 14,
     "metadata": {},
     "output_type": "execute_result"
    }
   ],
   "source": [
    "#Code here\n",
    "X = np.array([[2, 3, 4], \n",
    "              [1, 2, 3]])\n",
    "\n",
    "Y = np.array([[0, 1, 0], \n",
    "              [1, 0, 0], \n",
    "              [0, 0, 1]])\n",
    "\n",
    "#Z1 = X*Y\n",
    "print(X)\n",
    "print(X.T)\n",
    "np.dot(X, Y.T)"
   ]
  },
  {
   "cell_type": "markdown",
   "metadata": {},
   "source": [
    "<span style=\"color:rgb(170,0,0)\">**Task 3:**</span> Create a 2x2 identity matrix I using the numpy function ``eye(dim)`` \n",
    "$$ I=\\begin{bmatrix} 1 & 0 \\\\ 0 & 1 \\end{bmatrix} $$"
   ]
  },
  {
   "cell_type": "code",
   "execution_count": 20,
   "metadata": {},
   "outputs": [
    {
     "data": {
      "text/plain": [
       "array([[1., 0.],\n",
       "       [0., 1.]])"
      ]
     },
     "execution_count": 20,
     "metadata": {},
     "output_type": "execute_result"
    }
   ],
   "source": [
    "I = np.eye(2)\n",
    "I"
   ]
  },
  {
   "cell_type": "markdown",
   "metadata": {},
   "source": [
    "<span style=\"color:rgb(170,0,0)\">**Task 4:**</span> Multiply (using ``dot``) matrix I with the vector ``x`` defined below. Print the output.  What do you observe?\n",
    "$$  =Ix$$"
   ]
  },
  {
   "cell_type": "code",
   "execution_count": 24,
   "metadata": {},
   "outputs": [
    {
     "name": "stdout",
     "output_type": "stream",
     "text": [
      "[2 3]\n",
      "[2. 3.]\n"
     ]
    }
   ],
   "source": [
    "x=np.array([2,3])\n",
    "print(x)\n",
    "#Code here\n",
    "out = np.dot(I, x)\n",
    "print(out)"
   ]
  },
  {
   "cell_type": "markdown",
   "metadata": {},
   "source": [
    "<span style=\"color:rgb(170,0,0)\">**Task 5:**</span> Multiply (using ``dot``) matrix I with the matrix ``X`` defined below. Print the output.  What do you observe? \n",
    "$$=IX$$"
   ]
  },
  {
   "cell_type": "code",
   "execution_count": 28,
   "metadata": {},
   "outputs": [
    {
     "name": "stdout",
     "output_type": "stream",
     "text": [
      "[[2 3]\n",
      " [4 5]]\n",
      "[[2. 3.]\n",
      " [4. 5.]]\n"
     ]
    }
   ],
   "source": [
    "X=np.array([[2,3],[4,5]])\n",
    "print(X)\n",
    "#Code here\n",
    "out = np.dot(I, X)\n",
    "print(out)"
   ]
  },
  {
   "cell_type": "markdown",
   "metadata": {},
   "source": [
    "<span style=\"color:rgb(170,0,0)\">**Task 6:**</span> Multiply (using ``dot``) matrix $X$ with the inverse matrix, $X^{-1}$ (use the numpy function ``linalg.inv`` to do so).  What do you observe? \n",
    "$=$XX^{-1}$$\n"
   ]
  },
  {
   "cell_type": "code",
   "execution_count": 33,
   "metadata": {},
   "outputs": [
    {
     "name": "stdout",
     "output_type": "stream",
     "text": [
      "[[1 2]\n",
      " [0 1]]\n",
      "[[ 1. -2.]\n",
      " [ 0.  1.]]\n",
      "[[1. 0.]\n",
      " [0. 1.]]\n"
     ]
    }
   ],
   "source": [
    "X=np.array([[1,2],[0,1]])\n",
    "print(X)\n",
    "#Code here\n",
    "X_inverted = np.linalg.inv(X)\n",
    "print(X_inverted)\n",
    "out = np.dot(X, X_inverted)\n",
    "print(out)\n"
   ]
  },
  {
   "cell_type": "code",
   "execution_count": null,
   "metadata": {},
   "outputs": [],
   "source": []
  },
  {
   "cell_type": "code",
   "execution_count": null,
   "metadata": {},
   "outputs": [],
   "source": []
  }
 ],
 "metadata": {
  "kernelspec": {
   "display_name": "Python 3",
   "language": "python",
   "name": "python3"
  },
  "language_info": {
   "codemirror_mode": {
    "name": "ipython",
    "version": 3
   },
   "file_extension": ".py",
   "mimetype": "text/x-python",
   "name": "python",
   "nbconvert_exporter": "python",
   "pygments_lexer": "ipython3",
   "version": "3.6.9"
  },
  "widgets": {
   "state": {},
   "version": "1.1.2"
  }
 },
 "nbformat": 4,
 "nbformat_minor": 2
}
