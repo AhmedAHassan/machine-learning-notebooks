{
 "cells": [
  {
   "cell_type": "markdown",
   "metadata": {},
   "source": [
    "# 8. Linear Regression\n",
    "\n",
    "In this lab, you simply need to run the code below in order to understand how to utilize linear regression under various python libraries.  There is only a simple task at the end of the notebook"
   ]
  },
  {
   "cell_type": "code",
   "execution_count": 10,
   "metadata": {},
   "outputs": [],
   "source": [
    "%matplotlib inline\n",
    "\n",
    "from sklearn import datasets, linear_model\n",
    "import numpy as np\n",
    "#load the data: we are utilizing data from the diabetes dataset\n",
    "\n",
    "# Load the diabetes dataset (description here http://scikit-learn.org/stable/datasets/index.html#diabetes-dataset)\n",
    "diabetes = datasets.load_diabetes()\n",
    "\n",
    "# Use only one feature\n",
    "diabetes_X = diabetes.data[:, np.newaxis, 2]\n",
    "\n",
    "# Split the data into training/testing sets\n",
    "X_train = diabetes_X[:-20]\n",
    "X_test = diabetes_X[-20:]\n",
    "\n",
    "# Split the targets into training/testing sets\n",
    "y_train = diabetes.target[:-20]\n",
    "y_test = diabetes.target[-20:]"
   ]
  },
  {
   "cell_type": "markdown",
   "metadata": {
    "collapsed": true
   },
   "source": [
    "### 8.1 Linear Regression with scikit-learn\n",
    "Go through the code below and then run the cell to perform linear regression with scikit-learn"
   ]
  },
  {
   "cell_type": "code",
   "execution_count": 12,
   "metadata": {},
   "outputs": [
    {
     "name": "stdout",
     "output_type": "stream",
     "text": [
      "Mean squared error: 2548.07\n"
     ]
    },
    {
     "data": {
      "image/png": "[encoded data removed]",
      "text/plain": [
       "<Figure size 432x288 with 1 Axes>"
      ]
     },
     "metadata": {
      "needs_background": "light"
     },
     "output_type": "display_data"
    }
   ],
   "source": [
    "import matplotlib.pyplot as plt\n",
    "from sklearn.metrics import mean_squared_error\n",
    "\n",
    "# create a linear regression model\n",
    "linreg = linear_model.LinearRegression()\n",
    "\n",
    "# Train using training set\n",
    "linreg.fit(X_train, y_train)\n",
    "\n",
    "# Predict using test set\n",
    "y_pred = linreg.predict(X_test)\n",
    "\n",
    "\n",
    "# Error\n",
    "print(\"Mean squared error: %.2f\" % mean_squared_error(y_test, y_pred))\n",
    "\n",
    "# Plot outputs\n",
    "plt.plot(X_test, y_pred)\n",
    "plt.scatter(X_test, y_test,  color='black')\n",
    "plt.title('intercept = %.2f, slope = %.2f' %(linreg.intercept_, linreg.coef_[0]) )\n",
    "\n",
    "plt.show()"
   ]
  },
  {
   "cell_type": "markdown",
   "metadata": {},
   "source": [
    "# 8.2 Linear Regression with  normal equations\n",
    "\n",
    "**Task:** Copy the python code describing the normal equations solution to linear regression from slide 19 in the Linear Regression lecture (week 5). Paste it in the cell below.  What do you observe?\n"
   ]
  },
  {
   "cell_type": "code",
   "execution_count": 17,
   "metadata": {},
   "outputs": [
    {
     "name": "stdout",
     "output_type": "stream",
     "text": [
      "[ 175.29261364    9.24715909   17.76420455 -270.47159091   -4.24715909]\n",
      "[400. 389. 250. 689.]\n"
     ]
    }
   ],
   "source": [
    "import numpy as np\n",
    "X=np.array([[1,100,3,2,50],[1,60,2,1,25],[1,40,1,1,10],[1,150,4,2,95]])\n",
    "y=np.array([400,389,250,689])\n",
    "theta = np.linalg.pinv(X.T.dot(X)).dot(X.T).dot(y)\n",
    "print(theta)\n",
    "print( X.dot(theta) ) # check that X! = L"
   ]
  }
 ],
 "metadata": {
  "kernelspec": {
   "display_name": "Python 3",
   "language": "python",
   "name": "python3"
  },
  "language_info": {
   "codemirror_mode": {
    "name": "ipython",
    "version": 3
   },
   "file_extension": ".py",
   "mimetype": "text/x-python",
   "name": "python",
   "nbconvert_exporter": "python",
   "pygments_lexer": "ipython3",
   "version": "3.6.9"
  }
 },
 "nbformat": 4,
 "nbformat_minor": 2
}
