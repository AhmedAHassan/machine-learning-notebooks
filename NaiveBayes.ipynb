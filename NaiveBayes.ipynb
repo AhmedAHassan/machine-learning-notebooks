{
 "cells": [
  {
   "cell_type": "markdown",
   "metadata": {},
   "source": [
    "# 10. Naive Bayes\n",
    "\n",
    "In this lab,  run the code below in order to understand how to utilize Naive Bayes classification under sklearn. Then follow the exercise at the bottom of the notebook."
   ]
  },
  {
   "cell_type": "code",
   "execution_count": null,
   "metadata": {},
   "outputs": [],
   "source": [
    "%matplotlib inline\n",
    "\n",
    "from sklearn import datasets\n",
    "import numpy as np\n",
    "np.random.seed(1345)\n",
    "\n",
    "# Load the wine dataset (description here http://scikit-learn.org/stable/datasets/index.html#diabetes-dataset)\n",
    "wine = datasets.load_wine()\n",
    "data = wine.data.copy()\n",
    "target = wine.target.copy()\n",
    "\n",
    "# Split the data into training/testing sets\n",
    "total_samples = wine.target.shape[0]\n",
    "exclude = round(total_samples/3)\n",
    "indices = np.arange(0,total_samples)\n",
    "np.random.shuffle(indices)\n",
    "\n",
    "idx_train = indices[:-exclude]\n",
    "idx_test = indices[-exclude:]\n",
    "\n",
    "assert not np.intersect1d( idx_test, idx_train ).size\n",
    "\n",
    "X_train = data[idx_train]\n",
    "X_test = data[idx_test]\n",
    "\n",
    "# Split the targets into training/testing sets\n",
    "y_train = target[idx_train]\n",
    "y_test = target[idx_test]\n",
    "\n",
    "print(y_test)\n"
   ]
  },
  {
   "cell_type": "markdown",
   "metadata": {
    "collapsed": true
   },
   "source": [
    "### 10.1 Naive Bayes with scikit-learn\n",
    "Go through the code below and then run the cell to perform Naive Bayes with scikit-learn"
   ]
  },
  {
   "cell_type": "code",
   "execution_count": null,
   "metadata": {},
   "outputs": [],
   "source": [
    "import matplotlib.pyplot as plt\n",
    "from sklearn import naive_bayes, metrics\n",
    "\n",
    "# create a naive Bayes model with Gaussian observations\n",
    "nb = naive_bayes.GaussianNB()\n",
    "# Train using training set\n",
    "nb.fit(X_train, y_train)\n",
    "\n",
    "# Predict using test set\n",
    "y_pred = nb.predict(X_test)\n",
    "\n",
    "# Plot outputs\n",
    "plt.plot(y_test-0.1,'g*')\n",
    "plt.plot(y_pred,'b.')\n",
    "plt.show()\n",
    "\n",
    "# evaluation\n",
    "print(metrics.confusion_matrix(y_test, y_pred))\n",
    "print(\"accuracy: %.2f\" % metrics.accuracy_score(y_test, y_pred))\n",
    "\n",
    "# calculate precision and recall (and f-score, a weighted average of precision and recall) \n",
    "precision,recall,fscore,_ = metrics.precision_recall_fscore_support(y_test,y_pred )\n",
    "for c in np.unique(y_test):\n",
    "        print(\"class %s, precision: %.2f, recall: %.2f,  f-score: %.2f\" % (c, precision[c], recall[c], fscore[c]))\n",
    "\n"
   ]
  },
  {
   "cell_type": "markdown",
   "metadata": {},
   "source": [
    "\n"
   ]
  },
  {
   "cell_type": "markdown",
   "metadata": {},
   "source": [
    "### 10.2 Naive Bayes using objects\n",
    "\n",
    "Try running the following Naive Bayes binary classifier as an OO object. Have a look at how the class structure of myGaussianNB works. Refer to the python documentation on 'class'.\n"
   ]
  },
  {
   "cell_type": "code",
   "execution_count": null,
   "metadata": {},
   "outputs": [],
   "source": [
    "class myGaussianNB:\n",
    "    def __init__(self):\n",
    "        # initialise the object\n",
    "        self.nb = naive_bayes.GaussianNB()\n",
    "        \n",
    "    def fit(self, X_train, y_train):\n",
    "        self.nb.fit(X_train, y_train)\n",
    "    \n",
    "    def predict(self, X_test):\n",
    "        return self.nb.predict(X_test)\n",
    "        \n",
    "# evaluate as a binary classifier (i.e. only consider class 0 vs. rest from the above)\n",
    "target_binary = np.zeros( target.shape )\n",
    "target_binary[target==0] = 1 \n",
    "y_train_bin = target_binary[idx_train]\n",
    "y_test_bin = target_binary[idx_test]\n",
    "\n",
    "myNB = myGaussianNB()\n",
    "\n",
    "myNB.fit(X_train, y_train_bin)\n",
    "y_pred_bin = myNB.predict(X_test)\n",
    "\n",
    "# now do the evaluation\n",
    "print(metrics.confusion_matrix(y_test_bin, y_pred_bin))\n",
    "print(\"accuracy: %.2f\" % metrics.accuracy_score(y_test, y_pred))\n",
    "\n"
   ]
  },
  {
   "cell_type": "markdown",
   "metadata": {},
   "source": [
    "## 10.3 Implement your own Naive Bayes class\n",
    "\n",
    "Now try to implement the above code (from 10.2), but instead of using sklearn's naive_bayes.GaussianNB(), fill in the gaps below to implement your own version using Bayes theorem. Your classifier should return the same results as the version in 10.2. \n",
    "\n"
   ]
  },
  {
   "cell_type": "code",
   "execution_count": null,
   "metadata": {},
   "outputs": [],
   "source": [
    "import math\n",
    "import scipy.stats as stats\n",
    "\n",
    "class myGaussianNB:\n",
    "    \n",
    "    def __init__(self):\n",
    "        # initialise the attributes of this class\n",
    "        self.classes = []\n",
    "        self.numObservations = 0\n",
    "        \n",
    "        self.class_prior = dict()\n",
    "        self.class_mean = dict()\n",
    "        self.class_std = dict()\n",
    "        self.class_likelihood = dict()\n",
    "        self.posteriors = []\n",
    "        self.predictions = []\n",
    "                \n",
    "    def fit(self, X_train, y_train):\n",
    "        self.classes = np.unique( y_train.astype(int) )\n",
    "        self.numObservations = X_train.shape[1] \n",
    "        total = len(y_train)\n",
    "        # train your model for each class\n",
    "        for c in self.classes:\n",
    "            # 1. calculate your prior ( P(Class) )\n",
    "            self.class_prior[c] = #** YOUR CODE **\n",
    "            # 2. train a Gaussian model of the likelihood P( Obs | Class )\n",
    "            #   hint: calculate the mean and standard deviation of your classes\n",
    "            self.class_mean[c] = #** YOUR CODE **\n",
    "            self.class_std[c] = #** YOUR CODE **\n",
    "            \n",
    "    def predict(self, X_test):\n",
    "        #1. evaluate (log) likelihoods of test data for each class \n",
    "        for c in self.classes:\n",
    "            \n",
    "            # there will be multiple gaussians that need to be combined using the naive assumption\n",
    "            likelihood = 1\n",
    "            for obs in np.arange(0,self.numObservations).astype(int):\n",
    "                # use a normal pdf to calculate the likelihood for a single feature observation vector\n",
    "                feature_likelihood = stats.norm.pdf(X_test[:,obs], self.class_mean[c][obs], self.class_std[c][obs]) \n",
    "                # now combine these \n",
    "                likelihood = #** YOUR CODE **\n",
    "\n",
    "            self.class_likelihood[c] = likelihood\n",
    "                      \n",
    "            #2. approximate the posterior using P(X|Y)P(Y)\n",
    "            self.posteriors.append( #** YOUR CODE ** )\n",
    "        \n",
    "        #3. take the maximum posterior probability as our final class\n",
    "        self.predictions = #** YOUR CODE **\n",
    "        \n",
    "        return self.predictions\n",
    "        \n",
    "     #self.nb.predict(X_test)\n",
    "    \n",
    "myNB = myGaussianNB()\n",
    "\n",
    "myNB.fit(X_train, y_train_bin)\n",
    "\n",
    "y_pred_bin = myNB.predict(X_test)\n",
    "\n",
    "# now do the evaluation\n",
    "print(metrics.confusion_matrix(y_test_bin, y_pred_bin))\n",
    "print(\"accuracy: %.2f\" % metrics.accuracy_score(y_test, y_pred))\n",
    "\n",
    "\n"
   ]
  },
  {
   "cell_type": "code",
   "execution_count": null,
   "metadata": {},
   "outputs": [],
   "source": []
  }
 ],
 "metadata": {
  "kernelspec": {
   "display_name": "Python 3",
   "language": "python",
   "name": "python3"
  },
  "language_info": {
   "codemirror_mode": {
    "name": "ipython",
    "version": 3
   },
   "file_extension": ".py",
   "mimetype": "text/x-python",
   "name": "python",
   "nbconvert_exporter": "python",
   "pygments_lexer": "ipython3",
   "version": "3.7.1"
  },
  "widgets": {
   "state": {},
   "version": "1.1.2"
  }
 },
 "nbformat": 4,
 "nbformat_minor": 2
}
