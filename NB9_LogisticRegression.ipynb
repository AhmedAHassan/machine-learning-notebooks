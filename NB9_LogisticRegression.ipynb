{
 "cells": [
  {
   "cell_type": "markdown",
   "metadata": {},
   "source": [
    "# 9. Logistic Regression\n",
    "\n",
    "In this lab, you simply need to run the code below in order to understand how to utilize logistic regression classification under various python libraries.  There is only a simple task at the end of the notebook"
   ]
  },
  {
   "cell_type": "code",
   "execution_count": 62,
   "metadata": {},
   "outputs": [
    {
     "name": "stdout",
     "output_type": "stream",
     "text": [
      "[1 1 2 0 2 0 1 1 2 2 1 1 1 0 0 0 1 1 1 1 2 1 2 2 1 0 2 1 2 0 0 0 2 0 0 0 0\n",
      " 1 2 0 2 2 0 2 0 0 1 0 2 1 0 1 2 0 1 1 1 1 0 0 1 1 0 0 1 1 0 2 1 0 1 1 2 2\n",
      " 1 1 0 1 1 1 2 1 1 2 1 2 0 0 1 0 2 0 0 0 2 0 2 2 0 1 0 1 2 2 0 2 0 0 0 1 0\n",
      " 0 0 1 1 0 1 1 2]\n",
      "[2 1 1 0 0 1 1 0 0 1 2 2 1 0 1 2 0 2 2 1 2 1 1 1 2 2 1 2 1 0 1 2 1 0 2 0 0\n",
      " 0 1 2 1 0 1 2 1 1 2 1 1 1 0 2 0 1 1 2 2 1 0]\n"
     ]
    }
   ],
   "source": [
    "%matplotlib inline\n",
    "\n",
    "\n",
    "from sklearn import datasets\n",
    "import numpy as np\n",
    "\n",
    "np.random.seed(12345)\n",
    "\n",
    "# Load the wine dataset (description here http://scikit-learn.org/stable/datasets/index.html#diabetes-dataset)\n",
    "wine = datasets.load_wine()\n",
    "\n",
    "# Split the data into training/testing sets\n",
    "total_samples = wine.target.shape[0]\n",
    "exclude = round(total_samples/3)\n",
    "indices = np.arange(0,total_samples)\n",
    "np.random.shuffle(indices)\n",
    "\n",
    "idx_train = indices[:-exclude]\n",
    "idx_test = indices[-exclude:]\n",
    "\n",
    "assert not np.intersect1d( idx_test, idx_train ).size\n",
    "\n",
    "X_train = wine.data[idx_train]\n",
    "X_test = wine.data[idx_test]\n",
    "\n",
    "# Split the targets into training/testing sets\n",
    "y_train = wine.target[idx_train]\n",
    "y_test = wine.target[idx_test]\n",
    "\n",
    "\n",
    "print(y_test)\n",
    "\n",
    "#len(np.unique(y_train))\n"
   ]
  },
  {
   "cell_type": "markdown",
   "metadata": {
    "collapsed": true
   },
   "source": [
    "### 9.1 Logistic Regression with scikit-learn\n",
    "Go through the code below and then run the cell to perform logistic regression with scikit-learn"
   ]
  },
  {
   "cell_type": "code",
   "execution_count": 27,
   "metadata": {
    "scrolled": false
   },
   "outputs": [
    {
     "data": {
      "image/png": "[encoded data removed]",
      "text/plain": [
       "<Figure size 432x288 with 1 Axes>"
      ]
     },
     "metadata": {
      "needs_background": "light"
     },
     "output_type": "display_data"
    },
    {
     "name": "stdout",
     "output_type": "stream",
     "text": [
      "[[15  0  0]\n",
      " [ 0 25  1]\n",
      " [ 0  0 18]]\n",
      "accuracy: 0.98\n",
      "class 0, precision: 1.00, recall: 1.00,  f-score: 1.00\n",
      "class 1, precision: 1.00, recall: 0.96,  f-score: 0.98\n",
      "class 2, precision: 0.95, recall: 1.00,  f-score: 0.97\n"
     ]
    }
   ],
   "source": [
    "import matplotlib.pyplot as plt\n",
    "from sklearn import metrics, linear_model\n",
    "\n",
    "\n",
    "# create a logisitic regression model\n",
    "logreg = linear_model.LogisticRegression(solver='liblinear',multi_class='auto')\n",
    "\n",
    "# Train using training set\n",
    "logreg.fit(X_train, y_train)\n",
    "\n",
    "# Predict using test set\n",
    "y_pred = logreg.predict(X_test)\n",
    "\n",
    "# Plot outputs\n",
    "plt.plot(y_test-0.1,'g*')\n",
    "plt.plot(y_pred,'b.')\n",
    "plt.show()\n",
    "\n",
    "# evaluation\n",
    "print(metrics.confusion_matrix(y_test, y_pred))\n",
    "print(\"accuracy: %.2f\" % metrics.accuracy_score(y_test, y_pred))\n",
    "\n",
    "# calculate precision and recall (and f-score, a weighted average of precision and recall) \n",
    "precision,recall,fscore,_ = metrics.precision_recall_fscore_support(y_test,y_pred )\n",
    "for c in np.unique(y_test):\n",
    "        print(\"class %s, precision: %.2f, recall: %.2f,  f-score: %.2f\" % (c, precision[c], recall[c], fscore[c]))\n",
    "\n"
   ]
  },
  {
   "cell_type": "markdown",
   "metadata": {},
   "source": [
    "\n"
   ]
  },
  {
   "cell_type": "markdown",
   "metadata": {},
   "source": [
    "### 9.2 Logisitic regression on other datasets\n",
    "\n",
    "See if you can adapt the above code to work on another dataset, e.g. the breast cancer dataset (http://scikit-learn.org/stable/datasets/ includes a number of options). "
   ]
  },
  {
   "cell_type": "code",
   "execution_count": 79,
   "metadata": {
    "scrolled": true
   },
   "outputs": [
    {
     "name": "stdout",
     "output_type": "stream",
     "text": [
      ".. _breast_cancer_dataset:\n",
      "\n",
      "Breast cancer wisconsin (diagnostic) dataset\n",
      "--------------------------------------------\n",
      "\n",
      "**Data Set Characteristics:**\n",
      "\n",
      "    :Number of Instances: 569\n",
      "\n",
      "    :Number of Attributes: 30 numeric, predictive attributes and the class\n",
      "\n",
      "    :Attribute Information:\n",
      "        - radius (mean of distances from center to points on the perimeter)\n",
      "        - texture (standard deviation of gray-scale values)\n",
      "        - perimeter\n",
      "        - area\n",
      "        - smoothness (local variation in radius lengths)\n",
      "        - compactness (perimeter^2 / area - 1.0)\n",
      "        - concavity (severity of concave portions of the contour)\n",
      "        - concave points (number of concave portions of the contour)\n",
      "        - symmetry \n",
      "        - fractal dimension (\"coastline approximation\" - 1)\n",
      "\n",
      "        The mean, standard error, and \"worst\" or largest (mean of the three\n",
      "        largest values) of these features were computed for each image,\n",
      "        resulting in 30 features.  For instance, field 3 is Mean Radius, field\n",
      "        13 is Radius SE, field 23 is Worst Radius.\n",
      "\n",
      "        - class:\n",
      "                - WDBC-Malignant\n",
      "                - WDBC-Benign\n",
      "\n",
      "    :Summary Statistics:\n",
      "\n",
      "    ===================================== ====== ======\n",
      "                                           Min    Max\n",
      "    ===================================== ====== ======\n",
      "    radius (mean):                        6.981  28.11\n",
      "    texture (mean):                       9.71   39.28\n",
      "    perimeter (mean):                     43.79  188.5\n",
      "    area (mean):                          143.5  2501.0\n",
      "    smoothness (mean):                    0.053  0.163\n",
      "    compactness (mean):                   0.019  0.345\n",
      "    concavity (mean):                     0.0    0.427\n",
      "    concave points (mean):                0.0    0.201\n",
      "    symmetry (mean):                      0.106  0.304\n",
      "    fractal dimension (mean):             0.05   0.097\n",
      "    radius (standard error):              0.112  2.873\n",
      "    texture (standard error):             0.36   4.885\n",
      "    perimeter (standard error):           0.757  21.98\n",
      "    area (standard error):                6.802  542.2\n",
      "    smoothness (standard error):          0.002  0.031\n",
      "    compactness (standard error):         0.002  0.135\n",
      "    concavity (standard error):           0.0    0.396\n",
      "    concave points (standard error):      0.0    0.053\n",
      "    symmetry (standard error):            0.008  0.079\n",
      "    fractal dimension (standard error):   0.001  0.03\n",
      "    radius (worst):                       7.93   36.04\n",
      "    texture (worst):                      12.02  49.54\n",
      "    perimeter (worst):                    50.41  251.2\n",
      "    area (worst):                         185.2  4254.0\n",
      "    smoothness (worst):                   0.071  0.223\n",
      "    compactness (worst):                  0.027  1.058\n",
      "    concavity (worst):                    0.0    1.252\n",
      "    concave points (worst):               0.0    0.291\n",
      "    symmetry (worst):                     0.156  0.664\n",
      "    fractal dimension (worst):            0.055  0.208\n",
      "    ===================================== ====== ======\n",
      "\n",
      "    :Missing Attribute Values: None\n",
      "\n",
      "    :Class Distribution: 212 - Malignant, 357 - Benign\n",
      "\n",
      "    :Creator:  Dr. William H. Wolberg, W. Nick Street, Olvi L. Mangasarian\n",
      "\n",
      "    :Donor: Nick Street\n",
      "\n",
      "    :Date: November, 1995\n",
      "\n",
      "This is a copy of UCI ML Breast Cancer Wisconsin (Diagnostic) datasets.\n",
      "https://goo.gl/U2Uwz2\n",
      "\n",
      "Features are computed from a digitized image of a fine needle\n",
      "aspirate (FNA) of a breast mass.  They describe\n",
      "characteristics of the cell nuclei present in the image.\n",
      "\n",
      "Separating plane described above was obtained using\n",
      "Multisurface Method-Tree (MSM-T) [K. P. Bennett, \"Decision Tree\n",
      "Construction Via Linear Programming.\" Proceedings of the 4th\n",
      "Midwest Artificial Intelligence and Cognitive Science Society,\n",
      "pp. 97-101, 1992], a classification method which uses linear\n",
      "programming to construct a decision tree.  Relevant features\n",
      "were selected using an exhaustive search in the space of 1-4\n",
      "features and 1-3 separating planes.\n",
      "\n",
      "The actual linear program used to obtain the separating plane\n",
      "in the 3-dimensional space is that described in:\n",
      "[K. P. Bennett and O. L. Mangasarian: \"Robust Linear\n",
      "Programming Discrimination of Two Linearly Inseparable Sets\",\n",
      "Optimization Methods and Software 1, 1992, 23-34].\n",
      "\n",
      "This database is also available through the UW CS ftp server:\n",
      "\n",
      "ftp ftp.cs.wisc.edu\n",
      "cd math-prog/cpo-dataset/machine-learn/WDBC/\n",
      "\n",
      ".. topic:: References\n",
      "\n",
      "   - W.N. Street, W.H. Wolberg and O.L. Mangasarian. Nuclear feature extraction \n",
      "     for breast tumor diagnosis. IS&T/SPIE 1993 International Symposium on \n",
      "     Electronic Imaging: Science and Technology, volume 1905, pages 861-870,\n",
      "     San Jose, CA, 1993.\n",
      "   - O.L. Mangasarian, W.N. Street and W.H. Wolberg. Breast cancer diagnosis and \n",
      "     prognosis via linear programming. Operations Research, 43(4), pages 570-577, \n",
      "     July-August 1995.\n",
      "   - W.H. Wolberg, W.N. Street, and O.L. Mangasarian. Machine learning techniques\n",
      "     to diagnose breast cancer from fine-needle aspirates. Cancer Letters 77 (1994) \n",
      "     163-171.\n"
     ]
    }
   ],
   "source": [
    "from sklearn import datasets\n",
    "import numpy as np\n",
    "# Load the breast cancer dataset and print description\n",
    "cancer = datasets.load_breast_cancer()\n",
    "print(cancer.DESCR)"
   ]
  },
  {
   "cell_type": "code",
   "execution_count": 111,
   "metadata": {},
   "outputs": [],
   "source": [
    "# Get number of samples\n",
    "num_instances = cancer.target.shape[0]\n",
    "# get a cutoff point about a 1/3 through the set\n",
    "cutoff = round(num_instances/3)\n",
    "# Get indices for the set\n",
    "indices = np.arange(0, num_instances)\n",
    "# Set seed and shuffle\n",
    "np.random.seed(123)\n",
    "np.random.shuffle(indices)\n",
    "# Split indices into training and testing\n",
    "id_train = indices[:-cutoff]\n",
    "id_test = indices[-cutoff:]\n",
    "# Assert there is no intersection in indices\n",
    "assert not np.intersect1d( id_test, id_train ).size\n",
    "\n",
    "# Get training inputs and outputs\n",
    "X_train = cancer.data[id_train]\n",
    "y_train = cancer.target[id_train]\n",
    "# Get testing inputs and outputs\n",
    "X_test = cancer.data[id_test]\n",
    "y_test = cancer.target[id_test]"
   ]
  },
  {
   "cell_type": "code",
   "execution_count": 122,
   "metadata": {},
   "outputs": [
    {
     "data": {
      "image/png": "[encoded data removed]",
      "text/plain": [
       "<Figure size 1280x320 with 1 Axes>"
      ]
     },
     "metadata": {},
     "output_type": "display_data"
    },
    {
     "name": "stdout",
     "output_type": "stream",
     "text": [
      "Confusion matrix:\n",
      "\n",
      " [[ 63  10]\n",
      " [  3 114]]\n",
      "\n",
      "Accuracy: 0.93\n",
      "\n",
      "class 0: precision: 0.95, recall: 0.86,  f-score: 0.91\n",
      "\n",
      "class 1: precision: 0.92, recall: 0.97,  f-score: 0.95\n"
     ]
    }
   ],
   "source": [
    "import matplotlib.pyplot as plt\n",
    "from matplotlib.pyplot import figure\n",
    "from sklearn import metrics, linear_model\n",
    "# load model\n",
    "logit = linear_model.LogisticRegression(solver=\"liblinear\", multi_class=\"auto\")\n",
    "# Train the model\n",
    "logit.fit(X_train, y_train)\n",
    "# Predict values for test\n",
    "y_pred = logit.predict(X_test)\n",
    "\n",
    "# Plot outputs\n",
    "# Set figure size\n",
    "figure(num=None, figsize=(16, 4), dpi=80, facecolor='w', edgecolor='k')\n",
    "# Plot ground truth in green\n",
    "plt.plot(y_test-0.1,'g.')\n",
    "# Plot predicted in red\n",
    "plt.plot(y_pred,'r*')\n",
    "plt.legend([\"Ground truth\", \"Predicted\"])\n",
    "plt.show()\n",
    "\n",
    "# Performance evaluation\n",
    "print(\"Confusion matrix:\\n\\n\",metrics.confusion_matrix(y_test, y_pred))\n",
    "print(\"\\nAccuracy: %.2f\" % metrics.accuracy_score(y_test, y_pred))\n",
    "# calculate precision and recall (and f-score, a weighted average of precision and recall) \n",
    "precision,recall,fscore,_ = metrics.precision_recall_fscore_support(y_test,y_pred )\n",
    "for c in np.unique(y_test):\n",
    "        print(\"\\nclass %s: precision: %.2f, recall: %.2f,  f-score: %.2f\" % (c, precision[c], recall[c], fscore[c]))"
   ]
  }
 ],
 "metadata": {
  "kernelspec": {
   "display_name": "Python 3",
   "language": "python",
   "name": "python3"
  },
  "language_info": {
   "codemirror_mode": {
    "name": "ipython",
    "version": 3
   },
   "file_extension": ".py",
   "mimetype": "text/x-python",
   "name": "python",
   "nbconvert_exporter": "python",
   "pygments_lexer": "ipython3",
   "version": "3.6.9"
  },
  "widgets": {
   "state": {},
   "version": "1.1.2"
  }
 },
 "nbformat": 4,
 "nbformat_minor": 2
}
