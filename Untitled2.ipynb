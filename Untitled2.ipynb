{
 "cells": [
  {
   "cell_type": "code",
   "execution_count": 3,
   "metadata": {},
   "outputs": [],
   "source": [
    "\"\"\"Train test and split\"\"\"\n",
    "def my_train_test_split(X, y, ts):\n",
    "    '''Takes: X, y, ts=test size: a number between 0 and 1'''\n",
    "    # test test size value\n",
    "    if (ts < 0.0 or ts > 1.0):\n",
    "        print(\"please use a test size bettween 0 and 1\")\n",
    "        return\n",
    "    # Shuffle X and y\n",
    "    l = np.arange(X.shape[0])\n",
    "    random.shuffle(l)\n",
    "    X = X[l]\n",
    "    y = y[l]\n",
    "    # Split X and y using the test_size number  \n",
    "    cut_point = int(len(X)*(ts))\n",
    "    X_test = X[0:cut_point]\n",
    "    y_test = y[0:cut_point]\n",
    "    X_train = X[cut_point:]\n",
    "    y_train = y[cut_point:]\n",
    "    return (X_train, X_test, y_train, y_test)"
   ]
  },
  {
   "cell_type": "code",
   "execution_count": 12,
   "metadata": {},
   "outputs": [
    {
     "name": "stdout",
     "output_type": "stream",
     "text": [
      "[ 0  1  2  3  4  5  6  7  8  9 10 11 12 13 14 15 16 17 18 19]\n"
     ]
    },
    {
     "data": {
      "text/plain": [
       "(array([11, 13, 12, 15,  0,  8,  4, 17,  2, 18,  7, 16,  5, 14,  9,  6]),\n",
       " array([10,  1, 19,  3]),\n",
       " array([11, 13, 12, 15,  0,  8,  4, 17,  2, 18,  7, 16,  5, 14,  9,  6]),\n",
       " array([10,  1, 19,  3]))"
      ]
     },
     "execution_count": 12,
     "metadata": {},
     "output_type": "execute_result"
    }
   ],
   "source": [
    "import numpy as np\n",
    "import random\n",
    "l = np.arange(0, 20)\n",
    "print(l)\n",
    "my_train_test_split(l, l, 0.2)"
   ]
  }
 ],
 "metadata": {
  "kernelspec": {
   "display_name": "Python 3",
   "language": "python",
   "name": "python3"
  },
  "language_info": {
   "codemirror_mode": {
    "name": "ipython",
    "version": 3
   },
   "file_extension": ".py",
   "mimetype": "text/x-python",
   "name": "python",
   "nbconvert_exporter": "python",
   "pygments_lexer": "ipython3",
   "version": "3.6.9"
  }
 },
 "nbformat": 4,
 "nbformat_minor": 4
}
